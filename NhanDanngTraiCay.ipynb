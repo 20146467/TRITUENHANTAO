{
  "nbformat": 4,
  "nbformat_minor": 0,
  "metadata": {
    "colab": {
      "provenance": [],
      "authorship_tag": "ABX9TyMjUFKdE4i4WQUhKKRTEwdV",
      "include_colab_link": true
    },
    "kernelspec": {
      "name": "python3",
      "display_name": "Python 3"
    },
    "language_info": {
      "name": "python"
    },
    "accelerator": "GPU",
    "gpuClass": "standard"
  },
  "cells": [
    {
      "cell_type": "markdown",
      "metadata": {
        "id": "view-in-github",
        "colab_type": "text"
      },
      "source": [
        "<a href=\"https://colab.research.google.com/github/20146467/TRITUENHANTAO/blob/main/NhanDanngTraiCay.ipynb\" target=\"_parent\"><img src=\"https://colab.research.google.com/assets/colab-badge.svg\" alt=\"Open In Colab\"/></a>"
      ]
    },
    {
      "cell_type": "code",
      "execution_count": null,
      "metadata": {
        "colab": {
          "base_uri": "https://localhost:8080/"
        },
        "id": "7o7WBYWW507B",
        "outputId": "bfc590ff-a84a-4ad0-8f6d-c6f6d72b5201"
      },
      "outputs": [
        {
          "output_type": "stream",
          "name": "stdout",
          "text": [
            "Drive already mounted at /content/gdrive; to attempt to forcibly remount, call drive.mount(\"/content/gdrive\", force_remount=True).\n"
          ]
        }
      ],
      "source": [
        "from google.colab import drive\n",
        "drive.mount('/content/gdrive')"
      ]
    },
    {
      "cell_type": "code",
      "source": [
        "import os\n",
        "os.environ['PYTHONPATH'] = '/env/python'\n",
        "os.environ['PYTHONPATH']+=\":/content/gdrive/My Drive/Nhan_Dang_Trai_Cay_TF2_ObjDetect_API/TF2_ObjDetect_API/Tensorflow/models:/content/gdrive/My Drive/Nhan_Dang_Trai_Cay_TF2_ObjDetect_API/TF2_ObjDetect_API/Tensorflow/models/research:/content/gdrive/My Drive/Nhan_Dang_Trai_Cay_TF2_ObjDetect_API/TF2_ObjDetect_API/Tensorflow/models/research/slim\"\n"
      ],
      "metadata": {
        "id": "1ALIPj6y6e9E"
      },
      "execution_count": null,
      "outputs": []
    },
    {
      "cell_type": "code",
      "source": [
        "%cd '/content/gdrive/My Drive/Nhan_Dang_Trai_Cay_TF2_ObjDetect_API/TF2_ObjDetect_API/Tensorflow/models/research'\n",
        "\n"
      ],
      "metadata": {
        "colab": {
          "base_uri": "https://localhost:8080/"
        },
        "id": "SBX9Y30R7EOe",
        "outputId": "2253554f-fcf6-474d-e599-c8239c009333"
      },
      "execution_count": null,
      "outputs": [
        {
          "output_type": "stream",
          "name": "stdout",
          "text": [
            "/content/gdrive/My Drive/Nhan_Dang_Trai_Cay_TF2_ObjDetect_API/TF2_ObjDetect_API/Tensorflow/models/research\n"
          ]
        }
      ]
    },
    {
      "cell_type": "code",
      "source": [
        "!pip install tf_slim\n",
        "!pip install lvis\n",
        "!pip install tensorflow_addons\n",
        "!python object_detection/builders/model_builder_tf2_test.py\n"
      ],
      "metadata": {
        "colab": {
          "base_uri": "https://localhost:8080/"
        },
        "id": "ZjES1b8Q7hXJ",
        "outputId": "01836978-ad96-4f0c-ff55-f10f39741561"
      },
      "execution_count": null,
      "outputs": [
        {
          "output_type": "stream",
          "name": "stdout",
          "text": [
            "Looking in indexes: https://pypi.org/simple, https://us-python.pkg.dev/colab-wheels/public/simple/\n",
            "Requirement already satisfied: tf_slim in /usr/local/lib/python3.8/dist-packages (1.1.0)\n",
            "Requirement already satisfied: absl-py>=0.2.2 in /usr/local/lib/python3.8/dist-packages (from tf_slim) (1.4.0)\n",
            "Looking in indexes: https://pypi.org/simple, https://us-python.pkg.dev/colab-wheels/public/simple/\n",
            "Requirement already satisfied: lvis in /usr/local/lib/python3.8/dist-packages (0.5.3)\n",
            "Requirement already satisfied: numpy>=1.18.2 in /usr/local/lib/python3.8/dist-packages (from lvis) (1.21.6)\n",
            "Requirement already satisfied: matplotlib>=3.1.1 in /usr/local/lib/python3.8/dist-packages (from lvis) (3.2.2)\n",
            "Requirement already satisfied: Cython>=0.29.12 in /usr/local/lib/python3.8/dist-packages (from lvis) (0.29.33)\n",
            "Requirement already satisfied: opencv-python>=4.1.0.25 in /usr/local/lib/python3.8/dist-packages (from lvis) (4.6.0.66)\n",
            "Requirement already satisfied: six>=1.12.0 in /usr/local/lib/python3.8/dist-packages (from lvis) (1.15.0)\n",
            "Requirement already satisfied: python-dateutil>=2.8.0 in /usr/local/lib/python3.8/dist-packages (from lvis) (2.8.2)\n",
            "Requirement already satisfied: pyparsing>=2.4.0 in /usr/local/lib/python3.8/dist-packages (from lvis) (3.0.9)\n",
            "Requirement already satisfied: cycler>=0.10.0 in /usr/local/lib/python3.8/dist-packages (from lvis) (0.11.0)\n",
            "Requirement already satisfied: kiwisolver>=1.1.0 in /usr/local/lib/python3.8/dist-packages (from lvis) (1.4.4)\n",
            "Looking in indexes: https://pypi.org/simple, https://us-python.pkg.dev/colab-wheels/public/simple/\n",
            "Requirement already satisfied: tensorflow_addons in /usr/local/lib/python3.8/dist-packages (0.19.0)\n",
            "Requirement already satisfied: packaging in /usr/local/lib/python3.8/dist-packages (from tensorflow_addons) (23.0)\n",
            "Requirement already satisfied: typeguard>=2.7 in /usr/local/lib/python3.8/dist-packages (from tensorflow_addons) (2.7.1)\n",
            "2023-02-21 08:53:53.836858: I tensorflow/core/platform/cpu_feature_guard.cc:193] This TensorFlow binary is optimized with oneAPI Deep Neural Network Library (oneDNN) to use the following CPU instructions in performance-critical operations:  AVX2 FMA\n",
            "To enable them in other operations, rebuild TensorFlow with the appropriate compiler flags.\n",
            "2023-02-21 08:53:55.334485: W tensorflow/compiler/xla/stream_executor/platform/default/dso_loader.cc:64] Could not load dynamic library 'libnvinfer.so.7'; dlerror: libnvinfer.so.7: cannot open shared object file: No such file or directory; LD_LIBRARY_PATH: /usr/lib64-nvidia\n",
            "2023-02-21 08:53:55.334593: W tensorflow/compiler/xla/stream_executor/platform/default/dso_loader.cc:64] Could not load dynamic library 'libnvinfer_plugin.so.7'; dlerror: libnvinfer_plugin.so.7: cannot open shared object file: No such file or directory; LD_LIBRARY_PATH: /usr/lib64-nvidia\n",
            "2023-02-21 08:53:55.334617: W tensorflow/compiler/tf2tensorrt/utils/py_utils.cc:38] TF-TRT Warning: Cannot dlopen some TensorRT libraries. If you would like to use Nvidia GPU with TensorRT, please make sure the missing libraries mentioned above are installed properly.\n",
            "Running tests under Python 3.8.10: /usr/bin/python3\n",
            "[ RUN      ] ModelBuilderTF2Test.test_create_center_net_model0 (customize_head_params=True)\n",
            "2023-02-21 08:53:59.768820: W tensorflow/core/common_runtime/gpu/gpu_bfc_allocator.cc:42] Overriding orig_value setting because the TF_FORCE_GPU_ALLOW_GROWTH environment variable is set. Original config value was 0.\n",
            "INFO:tensorflow:time(__main__.ModelBuilderTF2Test.test_create_center_net_model0 (customize_head_params=True)): 1.58s\n",
            "I0221 08:54:00.076055 140447894591296 test_util.py:2457] time(__main__.ModelBuilderTF2Test.test_create_center_net_model0 (customize_head_params=True)): 1.58s\n",
            "[       OK ] ModelBuilderTF2Test.test_create_center_net_model0 (customize_head_params=True)\n",
            "[ RUN      ] ModelBuilderTF2Test.test_create_center_net_model1 (customize_head_params=False)\n",
            "INFO:tensorflow:time(__main__.ModelBuilderTF2Test.test_create_center_net_model1 (customize_head_params=False)): 0.27s\n",
            "I0221 08:54:00.349797 140447894591296 test_util.py:2457] time(__main__.ModelBuilderTF2Test.test_create_center_net_model1 (customize_head_params=False)): 0.27s\n",
            "[       OK ] ModelBuilderTF2Test.test_create_center_net_model1 (customize_head_params=False)\n",
            "[ RUN      ] ModelBuilderTF2Test.test_create_center_net_model_from_keypoints\n",
            "INFO:tensorflow:time(__main__.ModelBuilderTF2Test.test_create_center_net_model_from_keypoints): 0.37s\n",
            "I0221 08:54:00.715684 140447894591296 test_util.py:2457] time(__main__.ModelBuilderTF2Test.test_create_center_net_model_from_keypoints): 0.37s\n",
            "[       OK ] ModelBuilderTF2Test.test_create_center_net_model_from_keypoints\n",
            "[ RUN      ] ModelBuilderTF2Test.test_create_center_net_model_mobilenet\n",
            "WARNING:tensorflow:`input_shape` is undefined or non-square, or `rows` is not in [96, 128, 160, 192, 224]. Weights for input shape (224, 224) will be loaded as the default.\n",
            "W0221 08:54:00.717791 140447894591296 mobilenet_v2.py:326] `input_shape` is undefined or non-square, or `rows` is not in [96, 128, 160, 192, 224]. Weights for input shape (224, 224) will be loaded as the default.\n",
            "INFO:tensorflow:time(__main__.ModelBuilderTF2Test.test_create_center_net_model_mobilenet): 2.11s\n",
            "I0221 08:54:02.823332 140447894591296 test_util.py:2457] time(__main__.ModelBuilderTF2Test.test_create_center_net_model_mobilenet): 2.11s\n",
            "[       OK ] ModelBuilderTF2Test.test_create_center_net_model_mobilenet\n",
            "[ RUN      ] ModelBuilderTF2Test.test_create_experimental_model\n",
            "INFO:tensorflow:time(__main__.ModelBuilderTF2Test.test_create_experimental_model): 0.0s\n",
            "I0221 08:54:02.831835 140447894591296 test_util.py:2457] time(__main__.ModelBuilderTF2Test.test_create_experimental_model): 0.0s\n",
            "[       OK ] ModelBuilderTF2Test.test_create_experimental_model\n",
            "[ RUN      ] ModelBuilderTF2Test.test_create_faster_rcnn_from_config_with_crop_feature0 (True)\n",
            "INFO:tensorflow:time(__main__.ModelBuilderTF2Test.test_create_faster_rcnn_from_config_with_crop_feature0 (True)): 0.02s\n",
            "I0221 08:54:02.856308 140447894591296 test_util.py:2457] time(__main__.ModelBuilderTF2Test.test_create_faster_rcnn_from_config_with_crop_feature0 (True)): 0.02s\n",
            "[       OK ] ModelBuilderTF2Test.test_create_faster_rcnn_from_config_with_crop_feature0 (True)\n",
            "[ RUN      ] ModelBuilderTF2Test.test_create_faster_rcnn_from_config_with_crop_feature1 (False)\n",
            "INFO:tensorflow:time(__main__.ModelBuilderTF2Test.test_create_faster_rcnn_from_config_with_crop_feature1 (False)): 0.02s\n",
            "I0221 08:54:02.873104 140447894591296 test_util.py:2457] time(__main__.ModelBuilderTF2Test.test_create_faster_rcnn_from_config_with_crop_feature1 (False)): 0.02s\n",
            "[       OK ] ModelBuilderTF2Test.test_create_faster_rcnn_from_config_with_crop_feature1 (False)\n",
            "[ RUN      ] ModelBuilderTF2Test.test_create_faster_rcnn_model_from_config_with_example_miner\n",
            "INFO:tensorflow:time(__main__.ModelBuilderTF2Test.test_create_faster_rcnn_model_from_config_with_example_miner): 0.02s\n",
            "I0221 08:54:02.889200 140447894591296 test_util.py:2457] time(__main__.ModelBuilderTF2Test.test_create_faster_rcnn_model_from_config_with_example_miner): 0.02s\n",
            "[       OK ] ModelBuilderTF2Test.test_create_faster_rcnn_model_from_config_with_example_miner\n",
            "[ RUN      ] ModelBuilderTF2Test.test_create_faster_rcnn_models_from_config_faster_rcnn_with_matmul\n",
            "INFO:tensorflow:time(__main__.ModelBuilderTF2Test.test_create_faster_rcnn_models_from_config_faster_rcnn_with_matmul): 0.09s\n",
            "I0221 08:54:02.982975 140447894591296 test_util.py:2457] time(__main__.ModelBuilderTF2Test.test_create_faster_rcnn_models_from_config_faster_rcnn_with_matmul): 0.09s\n",
            "[       OK ] ModelBuilderTF2Test.test_create_faster_rcnn_models_from_config_faster_rcnn_with_matmul\n",
            "[ RUN      ] ModelBuilderTF2Test.test_create_faster_rcnn_models_from_config_faster_rcnn_without_matmul\n",
            "INFO:tensorflow:time(__main__.ModelBuilderTF2Test.test_create_faster_rcnn_models_from_config_faster_rcnn_without_matmul): 0.09s\n",
            "I0221 08:54:03.076623 140447894591296 test_util.py:2457] time(__main__.ModelBuilderTF2Test.test_create_faster_rcnn_models_from_config_faster_rcnn_without_matmul): 0.09s\n",
            "[       OK ] ModelBuilderTF2Test.test_create_faster_rcnn_models_from_config_faster_rcnn_without_matmul\n",
            "[ RUN      ] ModelBuilderTF2Test.test_create_faster_rcnn_models_from_config_mask_rcnn_with_matmul\n",
            "INFO:tensorflow:time(__main__.ModelBuilderTF2Test.test_create_faster_rcnn_models_from_config_mask_rcnn_with_matmul): 0.1s\n",
            "I0221 08:54:03.172645 140447894591296 test_util.py:2457] time(__main__.ModelBuilderTF2Test.test_create_faster_rcnn_models_from_config_mask_rcnn_with_matmul): 0.1s\n",
            "[       OK ] ModelBuilderTF2Test.test_create_faster_rcnn_models_from_config_mask_rcnn_with_matmul\n",
            "[ RUN      ] ModelBuilderTF2Test.test_create_faster_rcnn_models_from_config_mask_rcnn_without_matmul\n",
            "INFO:tensorflow:time(__main__.ModelBuilderTF2Test.test_create_faster_rcnn_models_from_config_mask_rcnn_without_matmul): 0.1s\n",
            "I0221 08:54:03.269805 140447894591296 test_util.py:2457] time(__main__.ModelBuilderTF2Test.test_create_faster_rcnn_models_from_config_mask_rcnn_without_matmul): 0.1s\n",
            "[       OK ] ModelBuilderTF2Test.test_create_faster_rcnn_models_from_config_mask_rcnn_without_matmul\n",
            "[ RUN      ] ModelBuilderTF2Test.test_create_rfcn_model_from_config\n",
            "INFO:tensorflow:time(__main__.ModelBuilderTF2Test.test_create_rfcn_model_from_config): 0.09s\n",
            "I0221 08:54:03.364786 140447894591296 test_util.py:2457] time(__main__.ModelBuilderTF2Test.test_create_rfcn_model_from_config): 0.09s\n",
            "[       OK ] ModelBuilderTF2Test.test_create_rfcn_model_from_config\n",
            "[ RUN      ] ModelBuilderTF2Test.test_create_ssd_fpn_model_from_config\n",
            "INFO:tensorflow:time(__main__.ModelBuilderTF2Test.test_create_ssd_fpn_model_from_config): 0.03s\n",
            "I0221 08:54:03.400035 140447894591296 test_util.py:2457] time(__main__.ModelBuilderTF2Test.test_create_ssd_fpn_model_from_config): 0.03s\n",
            "[       OK ] ModelBuilderTF2Test.test_create_ssd_fpn_model_from_config\n",
            "[ RUN      ] ModelBuilderTF2Test.test_create_ssd_models_from_config\n",
            "I0221 08:54:03.571435 140447894591296 ssd_efficientnet_bifpn_feature_extractor.py:142] EfficientDet EfficientNet backbone version: efficientnet-b0\n",
            "I0221 08:54:03.571584 140447894591296 ssd_efficientnet_bifpn_feature_extractor.py:144] EfficientDet BiFPN num filters: 64\n",
            "I0221 08:54:03.571655 140447894591296 ssd_efficientnet_bifpn_feature_extractor.py:145] EfficientDet BiFPN num iterations: 3\n",
            "I0221 08:54:03.573685 140447894591296 efficientnet_model.py:147] round_filter input=32 output=32\n",
            "I0221 08:54:03.600764 140447894591296 efficientnet_model.py:147] round_filter input=32 output=32\n",
            "I0221 08:54:03.600880 140447894591296 efficientnet_model.py:147] round_filter input=16 output=16\n",
            "I0221 08:54:03.681009 140447894591296 efficientnet_model.py:147] round_filter input=16 output=16\n",
            "I0221 08:54:03.681165 140447894591296 efficientnet_model.py:147] round_filter input=24 output=24\n",
            "I0221 08:54:03.867317 140447894591296 efficientnet_model.py:147] round_filter input=24 output=24\n",
            "I0221 08:54:03.867465 140447894591296 efficientnet_model.py:147] round_filter input=40 output=40\n",
            "I0221 08:54:04.047187 140447894591296 efficientnet_model.py:147] round_filter input=40 output=40\n",
            "I0221 08:54:04.047363 140447894591296 efficientnet_model.py:147] round_filter input=80 output=80\n",
            "I0221 08:54:04.320922 140447894591296 efficientnet_model.py:147] round_filter input=80 output=80\n",
            "I0221 08:54:04.321088 140447894591296 efficientnet_model.py:147] round_filter input=112 output=112\n",
            "I0221 08:54:04.580457 140447894591296 efficientnet_model.py:147] round_filter input=112 output=112\n",
            "I0221 08:54:04.580610 140447894591296 efficientnet_model.py:147] round_filter input=192 output=192\n",
            "I0221 08:54:05.071608 140447894591296 efficientnet_model.py:147] round_filter input=192 output=192\n",
            "I0221 08:54:05.071768 140447894591296 efficientnet_model.py:147] round_filter input=320 output=320\n",
            "I0221 08:54:05.157368 140447894591296 efficientnet_model.py:147] round_filter input=1280 output=1280\n",
            "I0221 08:54:05.198716 140447894591296 efficientnet_model.py:458] Building model efficientnet with params ModelConfig(width_coefficient=1.0, depth_coefficient=1.0, resolution=224, dropout_rate=0.2, blocks=(BlockConfig(input_filters=32, output_filters=16, kernel_size=3, num_repeat=1, expand_ratio=1, strides=(1, 1), se_ratio=0.25, id_skip=True, fused_conv=False, conv_type='depthwise'), BlockConfig(input_filters=16, output_filters=24, kernel_size=3, num_repeat=2, expand_ratio=6, strides=(2, 2), se_ratio=0.25, id_skip=True, fused_conv=False, conv_type='depthwise'), BlockConfig(input_filters=24, output_filters=40, kernel_size=5, num_repeat=2, expand_ratio=6, strides=(2, 2), se_ratio=0.25, id_skip=True, fused_conv=False, conv_type='depthwise'), BlockConfig(input_filters=40, output_filters=80, kernel_size=3, num_repeat=3, expand_ratio=6, strides=(2, 2), se_ratio=0.25, id_skip=True, fused_conv=False, conv_type='depthwise'), BlockConfig(input_filters=80, output_filters=112, kernel_size=5, num_repeat=3, expand_ratio=6, strides=(1, 1), se_ratio=0.25, id_skip=True, fused_conv=False, conv_type='depthwise'), BlockConfig(input_filters=112, output_filters=192, kernel_size=5, num_repeat=4, expand_ratio=6, strides=(2, 2), se_ratio=0.25, id_skip=True, fused_conv=False, conv_type='depthwise'), BlockConfig(input_filters=192, output_filters=320, kernel_size=3, num_repeat=1, expand_ratio=6, strides=(1, 1), se_ratio=0.25, id_skip=True, fused_conv=False, conv_type='depthwise')), stem_base_filters=32, top_base_filters=1280, activation='simple_swish', batch_norm='default', bn_momentum=0.99, bn_epsilon=0.001, weight_decay=5e-06, drop_connect_rate=0.2, depth_divisor=8, min_depth=None, use_se=True, input_channels=3, num_classes=1000, model_name='efficientnet', rescale_input=False, data_format='channels_last', dtype='float32')\n",
            "I0221 08:54:05.244986 140447894591296 ssd_efficientnet_bifpn_feature_extractor.py:142] EfficientDet EfficientNet backbone version: efficientnet-b1\n",
            "I0221 08:54:05.245135 140447894591296 ssd_efficientnet_bifpn_feature_extractor.py:144] EfficientDet BiFPN num filters: 88\n",
            "I0221 08:54:05.245201 140447894591296 ssd_efficientnet_bifpn_feature_extractor.py:145] EfficientDet BiFPN num iterations: 4\n",
            "I0221 08:54:05.246666 140447894591296 efficientnet_model.py:147] round_filter input=32 output=32\n",
            "I0221 08:54:05.262356 140447894591296 efficientnet_model.py:147] round_filter input=32 output=32\n",
            "I0221 08:54:05.262454 140447894591296 efficientnet_model.py:147] round_filter input=16 output=16\n",
            "I0221 08:54:05.407718 140447894591296 efficientnet_model.py:147] round_filter input=16 output=16\n",
            "I0221 08:54:05.407881 140447894591296 efficientnet_model.py:147] round_filter input=24 output=24\n",
            "I0221 08:54:05.651351 140447894591296 efficientnet_model.py:147] round_filter input=24 output=24\n",
            "I0221 08:54:05.651522 140447894591296 efficientnet_model.py:147] round_filter input=40 output=40\n",
            "I0221 08:54:05.941980 140447894591296 efficientnet_model.py:147] round_filter input=40 output=40\n",
            "I0221 08:54:05.942162 140447894591296 efficientnet_model.py:147] round_filter input=80 output=80\n",
            "I0221 08:54:06.286412 140447894591296 efficientnet_model.py:147] round_filter input=80 output=80\n",
            "I0221 08:54:06.286572 140447894591296 efficientnet_model.py:147] round_filter input=112 output=112\n",
            "I0221 08:54:06.753578 140447894591296 efficientnet_model.py:147] round_filter input=112 output=112\n",
            "I0221 08:54:06.753778 140447894591296 efficientnet_model.py:147] round_filter input=192 output=192\n",
            "I0221 08:54:07.322522 140447894591296 efficientnet_model.py:147] round_filter input=192 output=192\n",
            "I0221 08:54:07.322716 140447894591296 efficientnet_model.py:147] round_filter input=320 output=320\n",
            "I0221 08:54:07.566702 140447894591296 efficientnet_model.py:147] round_filter input=1280 output=1280\n",
            "I0221 08:54:07.615200 140447894591296 efficientnet_model.py:458] Building model efficientnet with params ModelConfig(width_coefficient=1.0, depth_coefficient=1.1, resolution=240, dropout_rate=0.2, blocks=(BlockConfig(input_filters=32, output_filters=16, kernel_size=3, num_repeat=1, expand_ratio=1, strides=(1, 1), se_ratio=0.25, id_skip=True, fused_conv=False, conv_type='depthwise'), BlockConfig(input_filters=16, output_filters=24, kernel_size=3, num_repeat=2, expand_ratio=6, strides=(2, 2), se_ratio=0.25, id_skip=True, fused_conv=False, conv_type='depthwise'), BlockConfig(input_filters=24, output_filters=40, kernel_size=5, num_repeat=2, expand_ratio=6, strides=(2, 2), se_ratio=0.25, id_skip=True, fused_conv=False, conv_type='depthwise'), BlockConfig(input_filters=40, output_filters=80, kernel_size=3, num_repeat=3, expand_ratio=6, strides=(2, 2), se_ratio=0.25, id_skip=True, fused_conv=False, conv_type='depthwise'), BlockConfig(input_filters=80, output_filters=112, kernel_size=5, num_repeat=3, expand_ratio=6, strides=(1, 1), se_ratio=0.25, id_skip=True, fused_conv=False, conv_type='depthwise'), BlockConfig(input_filters=112, output_filters=192, kernel_size=5, num_repeat=4, expand_ratio=6, strides=(2, 2), se_ratio=0.25, id_skip=True, fused_conv=False, conv_type='depthwise'), BlockConfig(input_filters=192, output_filters=320, kernel_size=3, num_repeat=1, expand_ratio=6, strides=(1, 1), se_ratio=0.25, id_skip=True, fused_conv=False, conv_type='depthwise')), stem_base_filters=32, top_base_filters=1280, activation='simple_swish', batch_norm='default', bn_momentum=0.99, bn_epsilon=0.001, weight_decay=5e-06, drop_connect_rate=0.2, depth_divisor=8, min_depth=None, use_se=True, input_channels=3, num_classes=1000, model_name='efficientnet', rescale_input=False, data_format='channels_last', dtype='float32')\n",
            "I0221 08:54:07.704663 140447894591296 ssd_efficientnet_bifpn_feature_extractor.py:142] EfficientDet EfficientNet backbone version: efficientnet-b2\n",
            "I0221 08:54:07.704850 140447894591296 ssd_efficientnet_bifpn_feature_extractor.py:144] EfficientDet BiFPN num filters: 112\n",
            "I0221 08:54:07.704937 140447894591296 ssd_efficientnet_bifpn_feature_extractor.py:145] EfficientDet BiFPN num iterations: 5\n",
            "I0221 08:54:07.707544 140447894591296 efficientnet_model.py:147] round_filter input=32 output=32\n",
            "I0221 08:54:07.732939 140447894591296 efficientnet_model.py:147] round_filter input=32 output=32\n",
            "I0221 08:54:07.733086 140447894591296 efficientnet_model.py:147] round_filter input=16 output=16\n",
            "I0221 08:54:07.908190 140447894591296 efficientnet_model.py:147] round_filter input=16 output=16\n",
            "I0221 08:54:07.908368 140447894591296 efficientnet_model.py:147] round_filter input=24 output=24\n",
            "I0221 08:54:08.239133 140447894591296 efficientnet_model.py:147] round_filter input=24 output=24\n",
            "I0221 08:54:08.239313 140447894591296 efficientnet_model.py:147] round_filter input=40 output=48\n",
            "I0221 08:54:08.591155 140447894591296 efficientnet_model.py:147] round_filter input=40 output=48\n",
            "I0221 08:54:08.591336 140447894591296 efficientnet_model.py:147] round_filter input=80 output=88\n",
            "I0221 08:54:09.071836 140447894591296 efficientnet_model.py:147] round_filter input=80 output=88\n",
            "I0221 08:54:09.072032 140447894591296 efficientnet_model.py:147] round_filter input=112 output=120\n",
            "I0221 08:54:09.553213 140447894591296 efficientnet_model.py:147] round_filter input=112 output=120\n",
            "I0221 08:54:09.553402 140447894591296 efficientnet_model.py:147] round_filter input=192 output=208\n",
            "I0221 08:54:10.065403 140447894591296 efficientnet_model.py:147] round_filter input=192 output=208\n",
            "I0221 08:54:10.065564 140447894591296 efficientnet_model.py:147] round_filter input=320 output=352\n",
            "I0221 08:54:10.245919 140447894591296 efficientnet_model.py:147] round_filter input=1280 output=1408\n",
            "I0221 08:54:10.280993 140447894591296 efficientnet_model.py:458] Building model efficientnet with params ModelConfig(width_coefficient=1.1, depth_coefficient=1.2, resolution=260, dropout_rate=0.3, blocks=(BlockConfig(input_filters=32, output_filters=16, kernel_size=3, num_repeat=1, expand_ratio=1, strides=(1, 1), se_ratio=0.25, id_skip=True, fused_conv=False, conv_type='depthwise'), BlockConfig(input_filters=16, output_filters=24, kernel_size=3, num_repeat=2, expand_ratio=6, strides=(2, 2), se_ratio=0.25, id_skip=True, fused_conv=False, conv_type='depthwise'), BlockConfig(input_filters=24, output_filters=40, kernel_size=5, num_repeat=2, expand_ratio=6, strides=(2, 2), se_ratio=0.25, id_skip=True, fused_conv=False, conv_type='depthwise'), BlockConfig(input_filters=40, output_filters=80, kernel_size=3, num_repeat=3, expand_ratio=6, strides=(2, 2), se_ratio=0.25, id_skip=True, fused_conv=False, conv_type='depthwise'), BlockConfig(input_filters=80, output_filters=112, kernel_size=5, num_repeat=3, expand_ratio=6, strides=(1, 1), se_ratio=0.25, id_skip=True, fused_conv=False, conv_type='depthwise'), BlockConfig(input_filters=112, output_filters=192, kernel_size=5, num_repeat=4, expand_ratio=6, strides=(2, 2), se_ratio=0.25, id_skip=True, fused_conv=False, conv_type='depthwise'), BlockConfig(input_filters=192, output_filters=320, kernel_size=3, num_repeat=1, expand_ratio=6, strides=(1, 1), se_ratio=0.25, id_skip=True, fused_conv=False, conv_type='depthwise')), stem_base_filters=32, top_base_filters=1280, activation='simple_swish', batch_norm='default', bn_momentum=0.99, bn_epsilon=0.001, weight_decay=5e-06, drop_connect_rate=0.2, depth_divisor=8, min_depth=None, use_se=True, input_channels=3, num_classes=1000, model_name='efficientnet', rescale_input=False, data_format='channels_last', dtype='float32')\n",
            "I0221 08:54:10.337048 140447894591296 ssd_efficientnet_bifpn_feature_extractor.py:142] EfficientDet EfficientNet backbone version: efficientnet-b3\n",
            "I0221 08:54:10.337184 140447894591296 ssd_efficientnet_bifpn_feature_extractor.py:144] EfficientDet BiFPN num filters: 160\n",
            "I0221 08:54:10.337251 140447894591296 ssd_efficientnet_bifpn_feature_extractor.py:145] EfficientDet BiFPN num iterations: 6\n",
            "I0221 08:54:10.338710 140447894591296 efficientnet_model.py:147] round_filter input=32 output=40\n",
            "I0221 08:54:10.356150 140447894591296 efficientnet_model.py:147] round_filter input=32 output=40\n",
            "I0221 08:54:10.356245 140447894591296 efficientnet_model.py:147] round_filter input=16 output=24\n",
            "I0221 08:54:10.498100 140447894591296 efficientnet_model.py:147] round_filter input=16 output=24\n",
            "I0221 08:54:10.498254 140447894591296 efficientnet_model.py:147] round_filter input=24 output=32\n",
            "I0221 08:54:10.754894 140447894591296 efficientnet_model.py:147] round_filter input=24 output=32\n",
            "I0221 08:54:10.755040 140447894591296 efficientnet_model.py:147] round_filter input=40 output=48\n",
            "I0221 08:54:11.180761 140447894591296 efficientnet_model.py:147] round_filter input=40 output=48\n",
            "I0221 08:54:11.180932 140447894591296 efficientnet_model.py:147] round_filter input=80 output=96\n",
            "I0221 08:54:11.606151 140447894591296 efficientnet_model.py:147] round_filter input=80 output=96\n",
            "I0221 08:54:11.606304 140447894591296 efficientnet_model.py:147] round_filter input=112 output=136\n",
            "I0221 08:54:12.029403 140447894591296 efficientnet_model.py:147] round_filter input=112 output=136\n",
            "I0221 08:54:12.029563 140447894591296 efficientnet_model.py:147] round_filter input=192 output=232\n",
            "I0221 08:54:12.545056 140447894591296 efficientnet_model.py:147] round_filter input=192 output=232\n",
            "I0221 08:54:12.545277 140447894591296 efficientnet_model.py:147] round_filter input=320 output=384\n",
            "I0221 08:54:12.727769 140447894591296 efficientnet_model.py:147] round_filter input=1280 output=1536\n",
            "I0221 08:54:12.763076 140447894591296 efficientnet_model.py:458] Building model efficientnet with params ModelConfig(width_coefficient=1.2, depth_coefficient=1.4, resolution=300, dropout_rate=0.3, blocks=(BlockConfig(input_filters=32, output_filters=16, kernel_size=3, num_repeat=1, expand_ratio=1, strides=(1, 1), se_ratio=0.25, id_skip=True, fused_conv=False, conv_type='depthwise'), BlockConfig(input_filters=16, output_filters=24, kernel_size=3, num_repeat=2, expand_ratio=6, strides=(2, 2), se_ratio=0.25, id_skip=True, fused_conv=False, conv_type='depthwise'), BlockConfig(input_filters=24, output_filters=40, kernel_size=5, num_repeat=2, expand_ratio=6, strides=(2, 2), se_ratio=0.25, id_skip=True, fused_conv=False, conv_type='depthwise'), BlockConfig(input_filters=40, output_filters=80, kernel_size=3, num_repeat=3, expand_ratio=6, strides=(2, 2), se_ratio=0.25, id_skip=True, fused_conv=False, conv_type='depthwise'), BlockConfig(input_filters=80, output_filters=112, kernel_size=5, num_repeat=3, expand_ratio=6, strides=(1, 1), se_ratio=0.25, id_skip=True, fused_conv=False, conv_type='depthwise'), BlockConfig(input_filters=112, output_filters=192, kernel_size=5, num_repeat=4, expand_ratio=6, strides=(2, 2), se_ratio=0.25, id_skip=True, fused_conv=False, conv_type='depthwise'), BlockConfig(input_filters=192, output_filters=320, kernel_size=3, num_repeat=1, expand_ratio=6, strides=(1, 1), se_ratio=0.25, id_skip=True, fused_conv=False, conv_type='depthwise')), stem_base_filters=32, top_base_filters=1280, activation='simple_swish', batch_norm='default', bn_momentum=0.99, bn_epsilon=0.001, weight_decay=5e-06, drop_connect_rate=0.2, depth_divisor=8, min_depth=None, use_se=True, input_channels=3, num_classes=1000, model_name='efficientnet', rescale_input=False, data_format='channels_last', dtype='float32')\n",
            "I0221 08:54:12.822551 140447894591296 ssd_efficientnet_bifpn_feature_extractor.py:142] EfficientDet EfficientNet backbone version: efficientnet-b4\n",
            "I0221 08:54:12.822679 140447894591296 ssd_efficientnet_bifpn_feature_extractor.py:144] EfficientDet BiFPN num filters: 224\n",
            "I0221 08:54:12.822743 140447894591296 ssd_efficientnet_bifpn_feature_extractor.py:145] EfficientDet BiFPN num iterations: 7\n",
            "I0221 08:54:12.824248 140447894591296 efficientnet_model.py:147] round_filter input=32 output=48\n",
            "I0221 08:54:12.842566 140447894591296 efficientnet_model.py:147] round_filter input=32 output=48\n",
            "I0221 08:54:12.842681 140447894591296 efficientnet_model.py:147] round_filter input=16 output=24\n",
            "I0221 08:54:12.979913 140447894591296 efficientnet_model.py:147] round_filter input=16 output=24\n",
            "I0221 08:54:12.980100 140447894591296 efficientnet_model.py:147] round_filter input=24 output=32\n",
            "I0221 08:54:13.307699 140447894591296 efficientnet_model.py:147] round_filter input=24 output=32\n",
            "I0221 08:54:13.307857 140447894591296 efficientnet_model.py:147] round_filter input=40 output=56\n",
            "I0221 08:54:13.649379 140447894591296 efficientnet_model.py:147] round_filter input=40 output=56\n",
            "I0221 08:54:13.649541 140447894591296 efficientnet_model.py:147] round_filter input=80 output=112\n",
            "I0221 08:54:14.146709 140447894591296 efficientnet_model.py:147] round_filter input=80 output=112\n",
            "I0221 08:54:14.146877 140447894591296 efficientnet_model.py:147] round_filter input=112 output=160\n",
            "I0221 08:54:14.674699 140447894591296 efficientnet_model.py:147] round_filter input=112 output=160\n",
            "I0221 08:54:14.674869 140447894591296 efficientnet_model.py:147] round_filter input=192 output=272\n",
            "I0221 08:54:15.355623 140447894591296 efficientnet_model.py:147] round_filter input=192 output=272\n",
            "I0221 08:54:15.355785 140447894591296 efficientnet_model.py:147] round_filter input=320 output=448\n",
            "I0221 08:54:15.529083 140447894591296 efficientnet_model.py:147] round_filter input=1280 output=1792\n",
            "I0221 08:54:15.563995 140447894591296 efficientnet_model.py:458] Building model efficientnet with params ModelConfig(width_coefficient=1.4, depth_coefficient=1.8, resolution=380, dropout_rate=0.4, blocks=(BlockConfig(input_filters=32, output_filters=16, kernel_size=3, num_repeat=1, expand_ratio=1, strides=(1, 1), se_ratio=0.25, id_skip=True, fused_conv=False, conv_type='depthwise'), BlockConfig(input_filters=16, output_filters=24, kernel_size=3, num_repeat=2, expand_ratio=6, strides=(2, 2), se_ratio=0.25, id_skip=True, fused_conv=False, conv_type='depthwise'), BlockConfig(input_filters=24, output_filters=40, kernel_size=5, num_repeat=2, expand_ratio=6, strides=(2, 2), se_ratio=0.25, id_skip=True, fused_conv=False, conv_type='depthwise'), BlockConfig(input_filters=40, output_filters=80, kernel_size=3, num_repeat=3, expand_ratio=6, strides=(2, 2), se_ratio=0.25, id_skip=True, fused_conv=False, conv_type='depthwise'), BlockConfig(input_filters=80, output_filters=112, kernel_size=5, num_repeat=3, expand_ratio=6, strides=(1, 1), se_ratio=0.25, id_skip=True, fused_conv=False, conv_type='depthwise'), BlockConfig(input_filters=112, output_filters=192, kernel_size=5, num_repeat=4, expand_ratio=6, strides=(2, 2), se_ratio=0.25, id_skip=True, fused_conv=False, conv_type='depthwise'), BlockConfig(input_filters=192, output_filters=320, kernel_size=3, num_repeat=1, expand_ratio=6, strides=(1, 1), se_ratio=0.25, id_skip=True, fused_conv=False, conv_type='depthwise')), stem_base_filters=32, top_base_filters=1280, activation='simple_swish', batch_norm='default', bn_momentum=0.99, bn_epsilon=0.001, weight_decay=5e-06, drop_connect_rate=0.2, depth_divisor=8, min_depth=None, use_se=True, input_channels=3, num_classes=1000, model_name='efficientnet', rescale_input=False, data_format='channels_last', dtype='float32')\n",
            "I0221 08:54:15.640099 140447894591296 ssd_efficientnet_bifpn_feature_extractor.py:142] EfficientDet EfficientNet backbone version: efficientnet-b5\n",
            "I0221 08:54:15.640248 140447894591296 ssd_efficientnet_bifpn_feature_extractor.py:144] EfficientDet BiFPN num filters: 288\n",
            "I0221 08:54:15.640313 140447894591296 ssd_efficientnet_bifpn_feature_extractor.py:145] EfficientDet BiFPN num iterations: 7\n",
            "I0221 08:54:15.641803 140447894591296 efficientnet_model.py:147] round_filter input=32 output=48\n",
            "I0221 08:54:15.657897 140447894591296 efficientnet_model.py:147] round_filter input=32 output=48\n",
            "I0221 08:54:15.658000 140447894591296 efficientnet_model.py:147] round_filter input=16 output=24\n",
            "I0221 08:54:15.852253 140447894591296 efficientnet_model.py:147] round_filter input=16 output=24\n",
            "I0221 08:54:15.852375 140447894591296 efficientnet_model.py:147] round_filter input=24 output=40\n",
            "I0221 08:54:16.265554 140447894591296 efficientnet_model.py:147] round_filter input=24 output=40\n",
            "I0221 08:54:16.265713 140447894591296 efficientnet_model.py:147] round_filter input=40 output=64\n",
            "I0221 08:54:16.679883 140447894591296 efficientnet_model.py:147] round_filter input=40 output=64\n",
            "I0221 08:54:16.680036 140447894591296 efficientnet_model.py:147] round_filter input=80 output=128\n",
            "I0221 08:54:17.487686 140447894591296 efficientnet_model.py:147] round_filter input=80 output=128\n",
            "I0221 08:54:17.487845 140447894591296 efficientnet_model.py:147] round_filter input=112 output=176\n",
            "I0221 08:54:18.093333 140447894591296 efficientnet_model.py:147] round_filter input=112 output=176\n",
            "I0221 08:54:18.093491 140447894591296 efficientnet_model.py:147] round_filter input=192 output=304\n",
            "I0221 08:54:18.870400 140447894591296 efficientnet_model.py:147] round_filter input=192 output=304\n",
            "I0221 08:54:18.870565 140447894591296 efficientnet_model.py:147] round_filter input=320 output=512\n",
            "I0221 08:54:19.122045 140447894591296 efficientnet_model.py:147] round_filter input=1280 output=2048\n",
            "I0221 08:54:19.160852 140447894591296 efficientnet_model.py:458] Building model efficientnet with params ModelConfig(width_coefficient=1.6, depth_coefficient=2.2, resolution=456, dropout_rate=0.4, blocks=(BlockConfig(input_filters=32, output_filters=16, kernel_size=3, num_repeat=1, expand_ratio=1, strides=(1, 1), se_ratio=0.25, id_skip=True, fused_conv=False, conv_type='depthwise'), BlockConfig(input_filters=16, output_filters=24, kernel_size=3, num_repeat=2, expand_ratio=6, strides=(2, 2), se_ratio=0.25, id_skip=True, fused_conv=False, conv_type='depthwise'), BlockConfig(input_filters=24, output_filters=40, kernel_size=5, num_repeat=2, expand_ratio=6, strides=(2, 2), se_ratio=0.25, id_skip=True, fused_conv=False, conv_type='depthwise'), BlockConfig(input_filters=40, output_filters=80, kernel_size=3, num_repeat=3, expand_ratio=6, strides=(2, 2), se_ratio=0.25, id_skip=True, fused_conv=False, conv_type='depthwise'), BlockConfig(input_filters=80, output_filters=112, kernel_size=5, num_repeat=3, expand_ratio=6, strides=(1, 1), se_ratio=0.25, id_skip=True, fused_conv=False, conv_type='depthwise'), BlockConfig(input_filters=112, output_filters=192, kernel_size=5, num_repeat=4, expand_ratio=6, strides=(2, 2), se_ratio=0.25, id_skip=True, fused_conv=False, conv_type='depthwise'), BlockConfig(input_filters=192, output_filters=320, kernel_size=3, num_repeat=1, expand_ratio=6, strides=(1, 1), se_ratio=0.25, id_skip=True, fused_conv=False, conv_type='depthwise')), stem_base_filters=32, top_base_filters=1280, activation='simple_swish', batch_norm='default', bn_momentum=0.99, bn_epsilon=0.001, weight_decay=5e-06, drop_connect_rate=0.2, depth_divisor=8, min_depth=None, use_se=True, input_channels=3, num_classes=1000, model_name='efficientnet', rescale_input=False, data_format='channels_last', dtype='float32')\n",
            "I0221 08:54:19.241930 140447894591296 ssd_efficientnet_bifpn_feature_extractor.py:142] EfficientDet EfficientNet backbone version: efficientnet-b6\n",
            "I0221 08:54:19.242081 140447894591296 ssd_efficientnet_bifpn_feature_extractor.py:144] EfficientDet BiFPN num filters: 384\n",
            "I0221 08:54:19.242160 140447894591296 ssd_efficientnet_bifpn_feature_extractor.py:145] EfficientDet BiFPN num iterations: 8\n",
            "I0221 08:54:19.243669 140447894591296 efficientnet_model.py:147] round_filter input=32 output=56\n",
            "I0221 08:54:19.263857 140447894591296 efficientnet_model.py:147] round_filter input=32 output=56\n",
            "I0221 08:54:19.263966 140447894591296 efficientnet_model.py:147] round_filter input=16 output=32\n",
            "I0221 08:54:19.479374 140447894591296 efficientnet_model.py:147] round_filter input=16 output=32\n",
            "I0221 08:54:19.479552 140447894591296 efficientnet_model.py:147] round_filter input=24 output=40\n",
            "I0221 08:54:20.047026 140447894591296 efficientnet_model.py:147] round_filter input=24 output=40\n",
            "I0221 08:54:20.047237 140447894591296 efficientnet_model.py:147] round_filter input=40 output=72\n",
            "I0221 08:54:20.751800 140447894591296 efficientnet_model.py:147] round_filter input=40 output=72\n",
            "I0221 08:54:20.752031 140447894591296 efficientnet_model.py:147] round_filter input=80 output=144\n",
            "I0221 08:54:21.672887 140447894591296 efficientnet_model.py:147] round_filter input=80 output=144\n",
            "I0221 08:54:21.673089 140447894591296 efficientnet_model.py:147] round_filter input=112 output=200\n",
            "I0221 08:54:22.616102 140447894591296 efficientnet_model.py:147] round_filter input=112 output=200\n",
            "I0221 08:54:22.616319 140447894591296 efficientnet_model.py:147] round_filter input=192 output=344\n",
            "I0221 08:54:23.761884 140447894591296 efficientnet_model.py:147] round_filter input=192 output=344\n",
            "I0221 08:54:23.762043 140447894591296 efficientnet_model.py:147] round_filter input=320 output=576\n",
            "I0221 08:54:24.030585 140447894591296 efficientnet_model.py:147] round_filter input=1280 output=2304\n",
            "I0221 08:54:24.068984 140447894591296 efficientnet_model.py:458] Building model efficientnet with params ModelConfig(width_coefficient=1.8, depth_coefficient=2.6, resolution=528, dropout_rate=0.5, blocks=(BlockConfig(input_filters=32, output_filters=16, kernel_size=3, num_repeat=1, expand_ratio=1, strides=(1, 1), se_ratio=0.25, id_skip=True, fused_conv=False, conv_type='depthwise'), BlockConfig(input_filters=16, output_filters=24, kernel_size=3, num_repeat=2, expand_ratio=6, strides=(2, 2), se_ratio=0.25, id_skip=True, fused_conv=False, conv_type='depthwise'), BlockConfig(input_filters=24, output_filters=40, kernel_size=5, num_repeat=2, expand_ratio=6, strides=(2, 2), se_ratio=0.25, id_skip=True, fused_conv=False, conv_type='depthwise'), BlockConfig(input_filters=40, output_filters=80, kernel_size=3, num_repeat=3, expand_ratio=6, strides=(2, 2), se_ratio=0.25, id_skip=True, fused_conv=False, conv_type='depthwise'), BlockConfig(input_filters=80, output_filters=112, kernel_size=5, num_repeat=3, expand_ratio=6, strides=(1, 1), se_ratio=0.25, id_skip=True, fused_conv=False, conv_type='depthwise'), BlockConfig(input_filters=112, output_filters=192, kernel_size=5, num_repeat=4, expand_ratio=6, strides=(2, 2), se_ratio=0.25, id_skip=True, fused_conv=False, conv_type='depthwise'), BlockConfig(input_filters=192, output_filters=320, kernel_size=3, num_repeat=1, expand_ratio=6, strides=(1, 1), se_ratio=0.25, id_skip=True, fused_conv=False, conv_type='depthwise')), stem_base_filters=32, top_base_filters=1280, activation='simple_swish', batch_norm='default', bn_momentum=0.99, bn_epsilon=0.001, weight_decay=5e-06, drop_connect_rate=0.2, depth_divisor=8, min_depth=None, use_se=True, input_channels=3, num_classes=1000, model_name='efficientnet', rescale_input=False, data_format='channels_last', dtype='float32')\n",
            "I0221 08:54:24.362268 140447894591296 ssd_efficientnet_bifpn_feature_extractor.py:142] EfficientDet EfficientNet backbone version: efficientnet-b7\n",
            "I0221 08:54:24.362452 140447894591296 ssd_efficientnet_bifpn_feature_extractor.py:144] EfficientDet BiFPN num filters: 384\n",
            "I0221 08:54:24.362520 140447894591296 ssd_efficientnet_bifpn_feature_extractor.py:145] EfficientDet BiFPN num iterations: 8\n",
            "I0221 08:54:24.364861 140447894591296 efficientnet_model.py:147] round_filter input=32 output=64\n",
            "I0221 08:54:24.385961 140447894591296 efficientnet_model.py:147] round_filter input=32 output=64\n",
            "I0221 08:54:24.386096 140447894591296 efficientnet_model.py:147] round_filter input=16 output=32\n",
            "I0221 08:54:24.664070 140447894591296 efficientnet_model.py:147] round_filter input=16 output=32\n",
            "I0221 08:54:24.664238 140447894591296 efficientnet_model.py:147] round_filter input=24 output=48\n",
            "I0221 08:54:25.263514 140447894591296 efficientnet_model.py:147] round_filter input=24 output=48\n",
            "I0221 08:54:25.263681 140447894591296 efficientnet_model.py:147] round_filter input=40 output=80\n",
            "I0221 08:54:25.851739 140447894591296 efficientnet_model.py:147] round_filter input=40 output=80\n",
            "I0221 08:54:25.851938 140447894591296 efficientnet_model.py:147] round_filter input=80 output=160\n",
            "I0221 08:54:26.695078 140447894591296 efficientnet_model.py:147] round_filter input=80 output=160\n",
            "I0221 08:54:26.695255 140447894591296 efficientnet_model.py:147] round_filter input=112 output=224\n",
            "I0221 08:54:27.575948 140447894591296 efficientnet_model.py:147] round_filter input=112 output=224\n",
            "I0221 08:54:27.576149 140447894591296 efficientnet_model.py:147] round_filter input=192 output=384\n",
            "I0221 08:54:28.676348 140447894591296 efficientnet_model.py:147] round_filter input=192 output=384\n",
            "I0221 08:54:28.676508 140447894591296 efficientnet_model.py:147] round_filter input=320 output=640\n",
            "I0221 08:54:29.040062 140447894591296 efficientnet_model.py:147] round_filter input=1280 output=2560\n",
            "I0221 08:54:29.075449 140447894591296 efficientnet_model.py:458] Building model efficientnet with params ModelConfig(width_coefficient=2.0, depth_coefficient=3.1, resolution=600, dropout_rate=0.5, blocks=(BlockConfig(input_filters=32, output_filters=16, kernel_size=3, num_repeat=1, expand_ratio=1, strides=(1, 1), se_ratio=0.25, id_skip=True, fused_conv=False, conv_type='depthwise'), BlockConfig(input_filters=16, output_filters=24, kernel_size=3, num_repeat=2, expand_ratio=6, strides=(2, 2), se_ratio=0.25, id_skip=True, fused_conv=False, conv_type='depthwise'), BlockConfig(input_filters=24, output_filters=40, kernel_size=5, num_repeat=2, expand_ratio=6, strides=(2, 2), se_ratio=0.25, id_skip=True, fused_conv=False, conv_type='depthwise'), BlockConfig(input_filters=40, output_filters=80, kernel_size=3, num_repeat=3, expand_ratio=6, strides=(2, 2), se_ratio=0.25, id_skip=True, fused_conv=False, conv_type='depthwise'), BlockConfig(input_filters=80, output_filters=112, kernel_size=5, num_repeat=3, expand_ratio=6, strides=(1, 1), se_ratio=0.25, id_skip=True, fused_conv=False, conv_type='depthwise'), BlockConfig(input_filters=112, output_filters=192, kernel_size=5, num_repeat=4, expand_ratio=6, strides=(2, 2), se_ratio=0.25, id_skip=True, fused_conv=False, conv_type='depthwise'), BlockConfig(input_filters=192, output_filters=320, kernel_size=3, num_repeat=1, expand_ratio=6, strides=(1, 1), se_ratio=0.25, id_skip=True, fused_conv=False, conv_type='depthwise')), stem_base_filters=32, top_base_filters=1280, activation='simple_swish', batch_norm='default', bn_momentum=0.99, bn_epsilon=0.001, weight_decay=5e-06, drop_connect_rate=0.2, depth_divisor=8, min_depth=None, use_se=True, input_channels=3, num_classes=1000, model_name='efficientnet', rescale_input=False, data_format='channels_last', dtype='float32')\n",
            "INFO:tensorflow:time(__main__.ModelBuilderTF2Test.test_create_ssd_models_from_config): 25.77s\n",
            "I0221 08:54:29.174861 140447894591296 test_util.py:2457] time(__main__.ModelBuilderTF2Test.test_create_ssd_models_from_config): 25.77s\n",
            "[       OK ] ModelBuilderTF2Test.test_create_ssd_models_from_config\n",
            "[ RUN      ] ModelBuilderTF2Test.test_invalid_faster_rcnn_batchnorm_update\n",
            "INFO:tensorflow:time(__main__.ModelBuilderTF2Test.test_invalid_faster_rcnn_batchnorm_update): 0.0s\n",
            "I0221 08:54:29.209771 140447894591296 test_util.py:2457] time(__main__.ModelBuilderTF2Test.test_invalid_faster_rcnn_batchnorm_update): 0.0s\n",
            "[       OK ] ModelBuilderTF2Test.test_invalid_faster_rcnn_batchnorm_update\n",
            "[ RUN      ] ModelBuilderTF2Test.test_invalid_first_stage_nms_iou_threshold\n",
            "INFO:tensorflow:time(__main__.ModelBuilderTF2Test.test_invalid_first_stage_nms_iou_threshold): 0.0s\n",
            "I0221 08:54:29.211428 140447894591296 test_util.py:2457] time(__main__.ModelBuilderTF2Test.test_invalid_first_stage_nms_iou_threshold): 0.0s\n",
            "[       OK ] ModelBuilderTF2Test.test_invalid_first_stage_nms_iou_threshold\n",
            "[ RUN      ] ModelBuilderTF2Test.test_invalid_model_config_proto\n",
            "INFO:tensorflow:time(__main__.ModelBuilderTF2Test.test_invalid_model_config_proto): 0.0s\n",
            "I0221 08:54:29.211932 140447894591296 test_util.py:2457] time(__main__.ModelBuilderTF2Test.test_invalid_model_config_proto): 0.0s\n",
            "[       OK ] ModelBuilderTF2Test.test_invalid_model_config_proto\n",
            "[ RUN      ] ModelBuilderTF2Test.test_invalid_second_stage_batch_size\n",
            "INFO:tensorflow:time(__main__.ModelBuilderTF2Test.test_invalid_second_stage_batch_size): 0.0s\n",
            "I0221 08:54:29.213331 140447894591296 test_util.py:2457] time(__main__.ModelBuilderTF2Test.test_invalid_second_stage_batch_size): 0.0s\n",
            "[       OK ] ModelBuilderTF2Test.test_invalid_second_stage_batch_size\n",
            "[ RUN      ] ModelBuilderTF2Test.test_session\n",
            "[  SKIPPED ] ModelBuilderTF2Test.test_session\n",
            "[ RUN      ] ModelBuilderTF2Test.test_unknown_faster_rcnn_feature_extractor\n",
            "INFO:tensorflow:time(__main__.ModelBuilderTF2Test.test_unknown_faster_rcnn_feature_extractor): 0.0s\n",
            "I0221 08:54:29.214620 140447894591296 test_util.py:2457] time(__main__.ModelBuilderTF2Test.test_unknown_faster_rcnn_feature_extractor): 0.0s\n",
            "[       OK ] ModelBuilderTF2Test.test_unknown_faster_rcnn_feature_extractor\n",
            "[ RUN      ] ModelBuilderTF2Test.test_unknown_meta_architecture\n",
            "INFO:tensorflow:time(__main__.ModelBuilderTF2Test.test_unknown_meta_architecture): 0.0s\n",
            "I0221 08:54:29.215044 140447894591296 test_util.py:2457] time(__main__.ModelBuilderTF2Test.test_unknown_meta_architecture): 0.0s\n",
            "[       OK ] ModelBuilderTF2Test.test_unknown_meta_architecture\n",
            "[ RUN      ] ModelBuilderTF2Test.test_unknown_ssd_feature_extractor\n",
            "INFO:tensorflow:time(__main__.ModelBuilderTF2Test.test_unknown_ssd_feature_extractor): 0.0s\n",
            "I0221 08:54:29.215976 140447894591296 test_util.py:2457] time(__main__.ModelBuilderTF2Test.test_unknown_ssd_feature_extractor): 0.0s\n",
            "[       OK ] ModelBuilderTF2Test.test_unknown_ssd_feature_extractor\n",
            "----------------------------------------------------------------------\n",
            "Ran 23 tests in 30.722s\n",
            "\n",
            "OK (skipped=1)\n"
          ]
        }
      ]
    },
    {
      "cell_type": "code",
      "source": [
        "%cd '/content/gdrive/My Drive/Nhan_Dang_Trai_Cay_TF2_ObjDetect_API/NhanDangTraiCay' \n"
      ],
      "metadata": {
        "colab": {
          "base_uri": "https://localhost:8080/"
        },
        "id": "OdXZL4mq7kXY",
        "outputId": "de19fae7-1f06-409c-fbc9-80868c97fcb2"
      },
      "execution_count": null,
      "outputs": [
        {
          "output_type": "stream",
          "name": "stdout",
          "text": [
            "/content/gdrive/My Drive/Nhan_Dang_Trai_Cay_TF2_ObjDetect_API/NhanDangTraiCay\n"
          ]
        }
      ]
    },
    {
      "cell_type": "code",
      "source": [
        "!python \"/content/gdrive/My Drive/Nhan_Dang_Trai_Cay_TF2_ObjDetect_API/TF2_ObjDetect_API/Tensorflow/models/research/object_detection/\"model_main_tf2.py --model_dir=Tensorflow/workspace/models/my_ssd_mobnet --pipeline_config_path=Tensorflow/workspace/models/my_ssd_mobnet/pipeline.config --num_train_steps=5000\n"
      ],
      "metadata": {
        "colab": {
          "base_uri": "https://localhost:8080/"
        },
        "id": "A2ZyvvD47tsK",
        "outputId": "6632445e-b29f-4a0f-f658-c3f7fb9d4d5a"
      },
      "execution_count": null,
      "outputs": [
        {
          "output_type": "stream",
          "name": "stdout",
          "text": [
            "WARNING:tensorflow:From /usr/local/lib/python3.8/dist-packages/tensorflow/python/util/deprecation.py:629: calling map_fn_v2 (from tensorflow.python.ops.map_fn) with dtype is deprecated and will be removed in a future version.\n",
            "Instructions for updating:\n",
            "Use fn_output_signature instead\n",
            "W0221 08:19:59.035927 140472911656704 deprecation.py:554] From /usr/local/lib/python3.8/dist-packages/tensorflow/python/util/deprecation.py:629: calling map_fn_v2 (from tensorflow.python.ops.map_fn) with dtype is deprecated and will be removed in a future version.\n",
            "Instructions for updating:\n",
            "Use fn_output_signature instead\n",
            "INFO:tensorflow:Step 100 per-step time 1.087s loss=0.380\n",
            "I0221 08:21:36.404798 140477461772096 model_lib_v2.py:676] Step 100 per-step time 1.087s loss=0.380\n",
            "INFO:tensorflow:Step 200 per-step time 0.391s loss=0.296\n",
            "I0221 08:22:15.532088 140477461772096 model_lib_v2.py:676] Step 200 per-step time 0.391s loss=0.296\n",
            "INFO:tensorflow:Step 300 per-step time 0.392s loss=0.266\n",
            "I0221 08:22:54.760516 140477461772096 model_lib_v2.py:676] Step 300 per-step time 0.392s loss=0.266\n",
            "INFO:tensorflow:Step 400 per-step time 0.392s loss=0.253\n",
            "I0221 08:23:33.912419 140477461772096 model_lib_v2.py:676] Step 400 per-step time 0.392s loss=0.253\n",
            "INFO:tensorflow:Step 500 per-step time 0.393s loss=0.231\n",
            "I0221 08:24:13.163922 140477461772096 model_lib_v2.py:676] Step 500 per-step time 0.393s loss=0.231\n",
            "INFO:tensorflow:Step 600 per-step time 0.389s loss=0.226\n",
            "I0221 08:24:52.066747 140477461772096 model_lib_v2.py:676] Step 600 per-step time 0.389s loss=0.226\n",
            "INFO:tensorflow:Step 700 per-step time 0.392s loss=0.219\n",
            "I0221 08:25:31.250622 140477461772096 model_lib_v2.py:676] Step 700 per-step time 0.392s loss=0.219\n",
            "INFO:tensorflow:Step 800 per-step time 0.391s loss=0.238\n",
            "I0221 08:26:10.303413 140477461772096 model_lib_v2.py:676] Step 800 per-step time 0.391s loss=0.238\n",
            "INFO:tensorflow:Step 900 per-step time 0.395s loss=0.221\n",
            "I0221 08:26:49.760933 140477461772096 model_lib_v2.py:676] Step 900 per-step time 0.395s loss=0.221\n",
            "INFO:tensorflow:Step 1000 per-step time 0.389s loss=0.221\n",
            "I0221 08:27:28.640095 140477461772096 model_lib_v2.py:676] Step 1000 per-step time 0.389s loss=0.221\n",
            "INFO:tensorflow:Step 1100 per-step time 0.408s loss=0.240\n",
            "I0221 08:28:09.427412 140477461772096 model_lib_v2.py:676] Step 1100 per-step time 0.408s loss=0.240\n",
            "INFO:tensorflow:Step 1200 per-step time 0.391s loss=0.238\n",
            "I0221 08:28:48.480738 140477461772096 model_lib_v2.py:676] Step 1200 per-step time 0.391s loss=0.238\n",
            "INFO:tensorflow:Step 1300 per-step time 0.391s loss=0.236\n",
            "I0221 08:29:27.541579 140477461772096 model_lib_v2.py:676] Step 1300 per-step time 0.391s loss=0.236\n",
            "INFO:tensorflow:Step 1400 per-step time 0.391s loss=0.204\n",
            "I0221 08:30:06.680354 140477461772096 model_lib_v2.py:676] Step 1400 per-step time 0.391s loss=0.204\n",
            "INFO:tensorflow:Step 1500 per-step time 0.390s loss=0.216\n",
            "I0221 08:30:45.705121 140477461772096 model_lib_v2.py:676] Step 1500 per-step time 0.390s loss=0.216\n",
            "INFO:tensorflow:Step 1600 per-step time 0.389s loss=0.214\n",
            "I0221 08:31:24.622085 140477461772096 model_lib_v2.py:676] Step 1600 per-step time 0.389s loss=0.214\n",
            "INFO:tensorflow:Step 1700 per-step time 0.392s loss=0.190\n",
            "I0221 08:32:03.862390 140477461772096 model_lib_v2.py:676] Step 1700 per-step time 0.392s loss=0.190\n",
            "INFO:tensorflow:Step 1800 per-step time 0.390s loss=0.213\n",
            "I0221 08:32:42.898827 140477461772096 model_lib_v2.py:676] Step 1800 per-step time 0.390s loss=0.213\n",
            "INFO:tensorflow:Step 1900 per-step time 0.393s loss=0.189\n",
            "I0221 08:33:22.155104 140477461772096 model_lib_v2.py:676] Step 1900 per-step time 0.393s loss=0.189\n",
            "INFO:tensorflow:Step 2000 per-step time 0.392s loss=0.196\n",
            "I0221 08:34:01.365262 140477461772096 model_lib_v2.py:676] Step 2000 per-step time 0.392s loss=0.196\n",
            "INFO:tensorflow:Step 2100 per-step time 0.402s loss=0.192\n",
            "I0221 08:34:41.590538 140477461772096 model_lib_v2.py:676] Step 2100 per-step time 0.402s loss=0.192\n",
            "INFO:tensorflow:Step 2200 per-step time 0.389s loss=0.195\n",
            "I0221 08:35:20.448057 140477461772096 model_lib_v2.py:676] Step 2200 per-step time 0.389s loss=0.195\n",
            "INFO:tensorflow:Step 2300 per-step time 0.390s loss=0.195\n",
            "I0221 08:35:59.423255 140477461772096 model_lib_v2.py:676] Step 2300 per-step time 0.390s loss=0.195\n",
            "INFO:tensorflow:Step 2400 per-step time 0.392s loss=0.182\n",
            "I0221 08:36:38.613700 140477461772096 model_lib_v2.py:676] Step 2400 per-step time 0.392s loss=0.182\n",
            "INFO:tensorflow:Step 2500 per-step time 0.390s loss=0.195\n",
            "I0221 08:37:17.635098 140477461772096 model_lib_v2.py:676] Step 2500 per-step time 0.390s loss=0.195\n",
            "INFO:tensorflow:Step 2600 per-step time 0.393s loss=0.179\n",
            "I0221 08:37:56.924893 140477461772096 model_lib_v2.py:676] Step 2600 per-step time 0.393s loss=0.179\n",
            "INFO:tensorflow:Step 2700 per-step time 0.390s loss=0.178\n",
            "I0221 08:38:35.879006 140477461772096 model_lib_v2.py:676] Step 2700 per-step time 0.390s loss=0.178\n",
            "INFO:tensorflow:Step 2800 per-step time 0.390s loss=0.182\n",
            "I0221 08:39:14.854290 140477461772096 model_lib_v2.py:676] Step 2800 per-step time 0.390s loss=0.182\n",
            "INFO:tensorflow:Step 2900 per-step time 0.390s loss=0.171\n",
            "I0221 08:39:53.885342 140477461772096 model_lib_v2.py:676] Step 2900 per-step time 0.390s loss=0.171\n",
            "INFO:tensorflow:Step 3000 per-step time 0.389s loss=0.167\n",
            "I0221 08:40:32.814047 140477461772096 model_lib_v2.py:676] Step 3000 per-step time 0.389s loss=0.167\n",
            "INFO:tensorflow:Step 3100 per-step time 0.405s loss=0.169\n",
            "I0221 08:41:13.326788 140477461772096 model_lib_v2.py:676] Step 3100 per-step time 0.405s loss=0.169\n",
            "INFO:tensorflow:Step 3200 per-step time 0.390s loss=0.183\n",
            "I0221 08:41:52.347330 140477461772096 model_lib_v2.py:676] Step 3200 per-step time 0.390s loss=0.183\n",
            "INFO:tensorflow:Step 3300 per-step time 0.390s loss=0.172\n",
            "I0221 08:42:31.368361 140477461772096 model_lib_v2.py:676] Step 3300 per-step time 0.390s loss=0.172\n",
            "INFO:tensorflow:Step 3400 per-step time 0.389s loss=0.177\n",
            "I0221 08:43:10.316511 140477461772096 model_lib_v2.py:676] Step 3400 per-step time 0.389s loss=0.177\n",
            "INFO:tensorflow:Step 3500 per-step time 0.389s loss=0.186\n",
            "I0221 08:43:49.231559 140477461772096 model_lib_v2.py:676] Step 3500 per-step time 0.389s loss=0.186\n",
            "INFO:tensorflow:Step 3600 per-step time 0.389s loss=0.165\n",
            "I0221 08:44:28.148870 140477461772096 model_lib_v2.py:676] Step 3600 per-step time 0.389s loss=0.165\n",
            "INFO:tensorflow:Step 3700 per-step time 0.389s loss=0.166\n",
            "I0221 08:45:07.057441 140477461772096 model_lib_v2.py:676] Step 3700 per-step time 0.389s loss=0.166\n",
            "INFO:tensorflow:Step 3800 per-step time 0.391s loss=0.160\n",
            "I0221 08:45:46.177186 140477461772096 model_lib_v2.py:676] Step 3800 per-step time 0.391s loss=0.160\n",
            "INFO:tensorflow:Step 3900 per-step time 0.390s loss=0.159\n",
            "I0221 08:46:25.220150 140477461772096 model_lib_v2.py:676] Step 3900 per-step time 0.390s loss=0.159\n",
            "INFO:tensorflow:Step 4000 per-step time 0.390s loss=0.157\n",
            "I0221 08:47:04.242941 140477461772096 model_lib_v2.py:676] Step 4000 per-step time 0.390s loss=0.157\n",
            "INFO:tensorflow:Step 4100 per-step time 0.401s loss=0.157\n",
            "I0221 08:47:44.356367 140477461772096 model_lib_v2.py:676] Step 4100 per-step time 0.401s loss=0.157\n",
            "INFO:tensorflow:Step 4200 per-step time 0.389s loss=0.152\n",
            "I0221 08:48:23.253933 140477461772096 model_lib_v2.py:676] Step 4200 per-step time 0.389s loss=0.152\n",
            "INFO:tensorflow:Step 4300 per-step time 0.390s loss=0.159\n",
            "I0221 08:49:02.247358 140477461772096 model_lib_v2.py:676] Step 4300 per-step time 0.390s loss=0.159\n",
            "INFO:tensorflow:Step 4400 per-step time 0.392s loss=0.156\n",
            "I0221 08:49:41.437759 140477461772096 model_lib_v2.py:676] Step 4400 per-step time 0.392s loss=0.156\n",
            "INFO:tensorflow:Step 4500 per-step time 0.391s loss=0.162\n",
            "I0221 08:50:20.490884 140477461772096 model_lib_v2.py:676] Step 4500 per-step time 0.391s loss=0.162\n",
            "INFO:tensorflow:Step 4600 per-step time 0.388s loss=0.155\n",
            "I0221 08:50:59.263889 140477461772096 model_lib_v2.py:676] Step 4600 per-step time 0.388s loss=0.155\n",
            "INFO:tensorflow:Step 4700 per-step time 0.390s loss=0.158\n",
            "I0221 08:51:38.258656 140477461772096 model_lib_v2.py:676] Step 4700 per-step time 0.390s loss=0.158\n",
            "INFO:tensorflow:Step 4800 per-step time 0.391s loss=0.158\n",
            "I0221 08:52:17.348311 140477461772096 model_lib_v2.py:676] Step 4800 per-step time 0.391s loss=0.158\n",
            "INFO:tensorflow:Step 4900 per-step time 0.390s loss=0.151\n",
            "I0221 08:52:56.388642 140477461772096 model_lib_v2.py:676] Step 4900 per-step time 0.390s loss=0.151\n",
            "INFO:tensorflow:Step 5000 per-step time 0.393s loss=0.150\n",
            "I0221 08:53:35.720091 140477461772096 model_lib_v2.py:676] Step 5000 per-step time 0.393s loss=0.150\n"
          ]
        }
      ]
    },
    {
      "cell_type": "code",
      "source": [
        "\n",
        "!python --version\n"
      ],
      "metadata": {
        "colab": {
          "base_uri": "https://localhost:8080/"
        },
        "id": "mXrWOahQB-xu",
        "outputId": "aacb52a7-1b49-4fff-ae21-1f057321098b"
      },
      "execution_count": null,
      "outputs": [
        {
          "output_type": "stream",
          "name": "stdout",
          "text": [
            "Python 3.8.10\n"
          ]
        }
      ]
    },
    {
      "cell_type": "code",
      "source": [
        "import tensorflow as tf\n",
        "print(tf. __version__)"
      ],
      "metadata": {
        "colab": {
          "base_uri": "https://localhost:8080/"
        },
        "id": "agTJo1cEMQ5q",
        "outputId": "3295952b-33b0-44fb-d7e3-d9c97e89e683"
      },
      "execution_count": null,
      "outputs": [
        {
          "output_type": "stream",
          "name": "stdout",
          "text": [
            "2.11.0\n"
          ]
        }
      ]
    },
    {
      "cell_type": "code",
      "source": [
        "import tensorflow as tf\n",
        "tf.test.gpu_device_name()"
      ],
      "metadata": {
        "colab": {
          "base_uri": "https://localhost:8080/",
          "height": 36
        },
        "id": "wpuTnZg_MejK",
        "outputId": "3fbddbb6-7aaa-41ac-e713-5f10d31774ab"
      },
      "execution_count": null,
      "outputs": [
        {
          "output_type": "execute_result",
          "data": {
            "text/plain": [
              "'/device:GPU:0'"
            ],
            "application/vnd.google.colaboratory.intrinsic+json": {
              "type": "string"
            }
          },
          "metadata": {},
          "execution_count": 22
        }
      ]
    },
    {
      "cell_type": "code",
      "source": [
        "'/device:GPU:0'\n"
      ],
      "metadata": {
        "colab": {
          "base_uri": "https://localhost:8080/",
          "height": 36
        },
        "id": "SJmVGRrtMmXl",
        "outputId": "0ca7cdd2-f00f-4080-e28a-8a7bfbb528b9"
      },
      "execution_count": null,
      "outputs": [
        {
          "output_type": "execute_result",
          "data": {
            "text/plain": [
              "'/device:GPU:0'"
            ],
            "application/vnd.google.colaboratory.intrinsic+json": {
              "type": "string"
            }
          },
          "metadata": {},
          "execution_count": 23
        }
      ]
    },
    {
      "cell_type": "code",
      "source": [
        "from tensorflow.python.client import device_lib\n",
        "device_lib.list_local_devices()"
      ],
      "metadata": {
        "colab": {
          "base_uri": "https://localhost:8080/"
        },
        "id": "1sR9eNDWMtMC",
        "outputId": "38383da0-f9fd-491e-f0fe-5496f2a7b856"
      },
      "execution_count": null,
      "outputs": [
        {
          "output_type": "execute_result",
          "data": {
            "text/plain": [
              "[name: \"/device:CPU:0\"\n",
              " device_type: \"CPU\"\n",
              " memory_limit: 268435456\n",
              " locality {\n",
              " }\n",
              " incarnation: 4040062723725504051\n",
              " xla_global_id: -1, name: \"/device:GPU:0\"\n",
              " device_type: \"GPU\"\n",
              " memory_limit: 14401011712\n",
              " locality {\n",
              "   bus_id: 1\n",
              "   links {\n",
              "   }\n",
              " }\n",
              " incarnation: 7193123075112272351\n",
              " physical_device_desc: \"device: 0, name: Tesla T4, pci bus id: 0000:00:04.0, compute capability: 7.5\"\n",
              " xla_global_id: 416903419]"
            ]
          },
          "metadata": {},
          "execution_count": 24
        }
      ]
    },
    {
      "cell_type": "code",
      "source": [
        "!cat /proc/meminfo"
      ],
      "metadata": {
        "colab": {
          "base_uri": "https://localhost:8080/"
        },
        "id": "33sn6UlVMvjx",
        "outputId": "36cb9823-7746-4a31-fb52-967e096b459e"
      },
      "execution_count": null,
      "outputs": [
        {
          "output_type": "stream",
          "name": "stdout",
          "text": [
            "MemTotal:       13297200 kB\n",
            "MemFree:         5594852 kB\n",
            "MemAvailable:   11434124 kB\n",
            "Buffers:          367428 kB\n",
            "Cached:          5632080 kB\n",
            "SwapCached:            0 kB\n",
            "Active:          1639512 kB\n",
            "Inactive:        5670064 kB\n",
            "Active(anon):       1004 kB\n",
            "Inactive(anon):  1295044 kB\n",
            "Active(file):    1638508 kB\n",
            "Inactive(file):  4375020 kB\n",
            "Unevictable:           0 kB\n",
            "Mlocked:               0 kB\n",
            "SwapTotal:             0 kB\n",
            "SwapFree:              0 kB\n",
            "Dirty:               748 kB\n",
            "Writeback:             0 kB\n",
            "AnonPages:       1310096 kB\n",
            "Mapped:           737124 kB\n",
            "Shmem:             11548 kB\n",
            "KReclaimable:     134392 kB\n",
            "Slab:             177300 kB\n",
            "SReclaimable:     134392 kB\n",
            "SUnreclaim:        42908 kB\n",
            "KernelStack:        5648 kB\n",
            "PageTables:        15776 kB\n",
            "NFS_Unstable:          0 kB\n",
            "Bounce:                0 kB\n",
            "WritebackTmp:          0 kB\n",
            "CommitLimit:     6648600 kB\n",
            "Committed_AS:    4082724 kB\n",
            "VmallocTotal:   34359738367 kB\n",
            "VmallocUsed:       59412 kB\n",
            "VmallocChunk:          0 kB\n",
            "Percpu:             1336 kB\n",
            "HardwareCorrupted:     0 kB\n",
            "AnonHugePages:         0 kB\n",
            "ShmemHugePages:        0 kB\n",
            "ShmemPmdMapped:        0 kB\n",
            "FileHugePages:         0 kB\n",
            "FilePmdMapped:         0 kB\n",
            "CmaTotal:              0 kB\n",
            "CmaFree:               0 kB\n",
            "HugePages_Total:       0\n",
            "HugePages_Free:        0\n",
            "HugePages_Rsvd:        0\n",
            "HugePages_Surp:        0\n",
            "Hugepagesize:       2048 kB\n",
            "Hugetlb:               0 kB\n",
            "DirectMap4k:      377664 kB\n",
            "DirectMap2M:    11153408 kB\n",
            "DirectMap1G:     4194304 kB\n"
          ]
        }
      ]
    },
    {
      "cell_type": "code",
      "source": [],
      "metadata": {
        "id": "UfxkLKluMzUE"
      },
      "execution_count": null,
      "outputs": []
    }
  ]
}