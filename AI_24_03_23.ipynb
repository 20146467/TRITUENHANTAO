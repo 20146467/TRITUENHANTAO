{
  "nbformat": 4,
  "nbformat_minor": 0,
  "metadata": {
    "colab": {
      "provenance": [],
      "authorship_tag": "ABX9TyNH5dxAjjV+INVPpGky5elH",
      "include_colab_link": true
    },
    "kernelspec": {
      "name": "python3",
      "display_name": "Python 3"
    },
    "language_info": {
      "name": "python"
    }
  },
  "cells": [
    {
      "cell_type": "markdown",
      "metadata": {
        "id": "view-in-github",
        "colab_type": "text"
      },
      "source": [
        "<a href=\"https://colab.research.google.com/github/20146467/TRITUENHANTAO/blob/main/AI_24_03_23.ipynb\" target=\"_parent\"><img src=\"https://colab.research.google.com/assets/colab-badge.svg\" alt=\"Open In Colab\"/></a>"
      ]
    },
    {
      "cell_type": "code",
      "execution_count": null,
      "metadata": {
        "id": "qGFp1LgIQb2y"
      },
      "outputs": [],
      "source": [
        "#ANN"
      ]
    },
    {
      "cell_type": "code",
      "source": [
        "pip install sklearn"
      ],
      "metadata": {
        "colab": {
          "base_uri": "https://localhost:8080/"
        },
        "id": "Zr6bJkGfZCnU",
        "outputId": "ae22c669-7bb6-44b6-85bb-eddd845c60c0"
      },
      "execution_count": null,
      "outputs": [
        {
          "output_type": "stream",
          "name": "stdout",
          "text": [
            "Looking in indexes: https://pypi.org/simple, https://us-python.pkg.dev/colab-wheels/public/simple/\n",
            "Requirement already satisfied: sklearn in /usr/local/lib/python3.9/dist-packages (0.0.post1)\n"
          ]
        }
      ]
    },
    {
      "cell_type": "code",
      "source": [
        "from sklearn.linear_model import Perceptron\n",
        "x = [[0,0],[1,0],[0,1],[1,1]]\n",
        "y = [0,1,1,1]\n",
        "model = Perceptron()\n",
        "model.fit(x,y)\n",
        "model.score(x,y)\n"
      ],
      "metadata": {
        "colab": {
          "base_uri": "https://localhost:8080/"
        },
        "id": "azG5CqJJXCuK",
        "outputId": "63c914ff-b3e7-48ff-f717-417c2ec550db"
      },
      "execution_count": null,
      "outputs": [
        {
          "output_type": "execute_result",
          "data": {
            "text/plain": [
              "1.0"
            ]
          },
          "metadata": {},
          "execution_count": 13
        }
      ]
    },
    {
      "cell_type": "code",
      "source": [
        "from sklearn.linear_model import Perceptron\n",
        "x1 = [[-0.5, -0.5],[10,-2],[-1, 0.8],[3,5],[1,0.2],[-0.1,0.5]]\n",
        "y1 = model.predict(x1)\n",
        "model = Perceptron()\n",
        "model.fit(x1,y1)\n",
        "model.score(x1,y1)"
      ],
      "metadata": {
        "id": "oWOPwvAvYOT3",
        "colab": {
          "base_uri": "https://localhost:8080/"
        },
        "outputId": "8a2495b8-f361-462b-fd37-4e0925e47f7f"
      },
      "execution_count": null,
      "outputs": [
        {
          "output_type": "execute_result",
          "data": {
            "text/plain": [
              "1.0"
            ]
          },
          "metadata": {},
          "execution_count": 12
        }
      ]
    },
    {
      "cell_type": "code",
      "source": [],
      "metadata": {
        "colab": {
          "base_uri": "https://localhost:8080/"
        },
        "id": "cS7mFrREbVuh",
        "outputId": "521f7c1c-2404-40d0-dc74-49b318b3a653"
      },
      "execution_count": null,
      "outputs": [
        {
          "output_type": "stream",
          "name": "stdout",
          "text": [
            "[[5.1 3.5 1.4 0.2]\n",
            " [4.9 3.  1.4 0.2]\n",
            " [4.7 3.2 1.3 0.2]\n",
            " [4.6 3.1 1.5 0.2]\n",
            " [5.  3.6 1.4 0.2]]\n",
            "[0 0 0 0 0]\n"
          ]
        }
      ]
    },
    {
      "cell_type": "code",
      "source": [
        "model = Perceptron(max_iter =40, eta0 = 0.1, random_state = 0) #max_iter: so lan hoc, eta0: toc do hoc,radom  \n",
        "model.fit(X_train, y_train)\n",
        "y_pred = model.predict(X_test_std)\n",
        "print(y_pred)\n",
        "print(y_test)\n",
        "print('Do chinh xac cua mo hinh:', accuracy_score(y_test,y_pred))\n"
      ],
      "metadata": {
        "colab": {
          "base_uri": "https://localhost:8080/",
          "height": 235
        },
        "id": "ALFG3uGehcWg",
        "outputId": "19082771-23ec-467f-e2cf-798370dd48d3"
      },
      "execution_count": null,
      "outputs": [
        {
          "output_type": "error",
          "ename": "NameError",
          "evalue": "ignored",
          "traceback": [
            "\u001b[0;31m---------------------------------------------------------------------------\u001b[0m",
            "\u001b[0;31mNameError\u001b[0m                                 Traceback (most recent call last)",
            "\u001b[0;32m<ipython-input-45-451da24015a8>\u001b[0m in \u001b[0;36m<module>\u001b[0;34m\u001b[0m\n\u001b[1;32m      1\u001b[0m \u001b[0mmodel\u001b[0m \u001b[0;34m=\u001b[0m \u001b[0mPerceptron\u001b[0m\u001b[0;34m(\u001b[0m\u001b[0mmax_iter\u001b[0m \u001b[0;34m=\u001b[0m\u001b[0;36m40\u001b[0m\u001b[0;34m,\u001b[0m \u001b[0meta0\u001b[0m \u001b[0;34m=\u001b[0m \u001b[0;36m0.1\u001b[0m\u001b[0;34m,\u001b[0m \u001b[0mrandom_state\u001b[0m \u001b[0;34m=\u001b[0m \u001b[0;36m0\u001b[0m\u001b[0;34m)\u001b[0m \u001b[0;31m#max_iter: so lan hoc, eta0: toc do hoc,radom\u001b[0m\u001b[0;34m\u001b[0m\u001b[0;34m\u001b[0m\u001b[0m\n\u001b[1;32m      2\u001b[0m \u001b[0mmodel\u001b[0m\u001b[0;34m.\u001b[0m\u001b[0mfit\u001b[0m\u001b[0;34m(\u001b[0m\u001b[0mX_train\u001b[0m\u001b[0;34m,\u001b[0m \u001b[0my_train\u001b[0m\u001b[0;34m)\u001b[0m\u001b[0;34m\u001b[0m\u001b[0;34m\u001b[0m\u001b[0m\n\u001b[0;32m----> 3\u001b[0;31m \u001b[0my_pred\u001b[0m \u001b[0;34m=\u001b[0m \u001b[0mmodel\u001b[0m\u001b[0;34m.\u001b[0m\u001b[0mpredict\u001b[0m\u001b[0;34m(\u001b[0m\u001b[0mX_test_std\u001b[0m\u001b[0;34m)\u001b[0m\u001b[0;34m\u001b[0m\u001b[0;34m\u001b[0m\u001b[0m\n\u001b[0m\u001b[1;32m      4\u001b[0m \u001b[0mprint\u001b[0m\u001b[0;34m(\u001b[0m\u001b[0my_pred\u001b[0m\u001b[0;34m)\u001b[0m\u001b[0;34m\u001b[0m\u001b[0;34m\u001b[0m\u001b[0m\n\u001b[1;32m      5\u001b[0m \u001b[0mprint\u001b[0m\u001b[0;34m(\u001b[0m\u001b[0my_test\u001b[0m\u001b[0;34m)\u001b[0m\u001b[0;34m\u001b[0m\u001b[0;34m\u001b[0m\u001b[0m\n",
            "\u001b[0;31mNameError\u001b[0m: name 'X_test_std' is not defined"
          ]
        }
      ]
    },
    {
      "cell_type": "code",
      "source": [
        "import pandas as pd\n",
        "import numpy as np\n",
        "\n",
        "dataframe = pd.read_csv('crabs.csv')\n",
        "dataframe.head()\n",
        "crab_B = dataframe\n",
        "crab_B.sex = crab_B.sex.apply(lambda x: x.replace(\"M\",\"1\"))\n",
        "crab_B.sex = crab_B.sex.apply(lambda x: x.replace(\"F\",\"0\"))\n",
        "print(crab_B)"
      ],
      "metadata": {
        "colab": {
          "base_uri": "https://localhost:8080/"
        },
        "id": "cd4qmsOaoGt4",
        "outputId": "9055297b-19a7-4067-f54a-9e00461e5cd9"
      },
      "execution_count": null,
      "outputs": [
        {
          "output_type": "stream",
          "name": "stdout",
          "text": [
            "    speies sex  index  fontallip  rearwidth  length  width  depth\n",
            "0        B   1      1        8.1        6.7    16.1   19.0    7.0\n",
            "1        B   1      2        8.8        7.7    18.1   20.8    7.4\n",
            "2        B   1      3        9.2        7.8    19.0   22.4    7.7\n",
            "3        B   1      4        9.6        7.9    20.1   23.1    8.2\n",
            "4        B   1      5        9.8        8.0    20.3   23.0    8.2\n",
            "..     ...  ..    ...        ...        ...     ...    ...    ...\n",
            "195      O   0     46       21.4       18.0    41.2   46.2   18.7\n",
            "196      O   0     47       21.7       17.1    41.7   47.2   19.6\n",
            "197      O   0     48       21.9       17.2    42.6   47.4   19.5\n",
            "198      O   0     49       22.5       17.2    43.0   48.7   19.8\n",
            "199      O   0     50       23.1       20.2    46.2   52.5   21.1\n",
            "\n",
            "[200 rows x 8 columns]\n"
          ]
        }
      ]
    },
    {
      "cell_type": "code",
      "source": [
        "data_replaced_1=data['speies'].replace([\"O\", \"B\"], [1, 0]).head(150)\n",
        "data_replaced_1"
      ],
      "metadata": {
        "colab": {
          "base_uri": "https://localhost:8080/"
        },
        "id": "cG_HljEYpQ-6",
        "outputId": "a232763c-c99a-4290-c16f-aa8a6a9791ad"
      },
      "execution_count": null,
      "outputs": [
        {
          "output_type": "execute_result",
          "data": {
            "text/plain": [
              "0      0\n",
              "1      0\n",
              "2      0\n",
              "3      0\n",
              "4      0\n",
              "      ..\n",
              "145    1\n",
              "146    1\n",
              "147    1\n",
              "148    1\n",
              "149    1\n",
              "Name: speies, Length: 150, dtype: int64"
            ]
          },
          "metadata": {},
          "execution_count": 40
        }
      ]
    },
    {
      "cell_type": "code",
      "source": [
        "x = crab_B.drop(['speies','sex','index'],axis = 1)\n",
        "print(x)\n",
        "y = crab_B.sex\n",
        "print(y)"
      ],
      "metadata": {
        "colab": {
          "base_uri": "https://localhost:8080/"
        },
        "id": "h6hbVW0nqKHD",
        "outputId": "246c4b73-5328-4207-808f-d9dbfc2f1abe"
      },
      "execution_count": null,
      "outputs": [
        {
          "output_type": "stream",
          "name": "stdout",
          "text": [
            "     fontallip  rearwidth  length  width  depth\n",
            "0          8.1        6.7    16.1   19.0    7.0\n",
            "1          8.8        7.7    18.1   20.8    7.4\n",
            "2          9.2        7.8    19.0   22.4    7.7\n",
            "3          9.6        7.9    20.1   23.1    8.2\n",
            "4          9.8        8.0    20.3   23.0    8.2\n",
            "..         ...        ...     ...    ...    ...\n",
            "195       21.4       18.0    41.2   46.2   18.7\n",
            "196       21.7       17.1    41.7   47.2   19.6\n",
            "197       21.9       17.2    42.6   47.4   19.5\n",
            "198       22.5       17.2    43.0   48.7   19.8\n",
            "199       23.1       20.2    46.2   52.5   21.1\n",
            "\n",
            "[200 rows x 5 columns]\n",
            "0      1\n",
            "1      1\n",
            "2      1\n",
            "3      1\n",
            "4      1\n",
            "      ..\n",
            "195    0\n",
            "196    0\n",
            "197    0\n",
            "198    0\n",
            "199    0\n",
            "Name: sex, Length: 200, dtype: object\n"
          ]
        }
      ]
    },
    {
      "cell_type": "code",
      "source": [
        "x_train, x_test, y_train, y_test = train_test_split(x,y,test_size=0.3)\n",
        "sc = StandardScaler()\n",
        "sc.fit(x_train)\n",
        "x_train = sc.transform(x_train)\n",
        "x_test = sc.transform(x_test)\n",
        "model = Perceptron(max_iter = 1000, eta0 = 0.2, random_state = 0)\n",
        "#model: số lần học\n",
        "model.fit(x_train, y_train)\n",
        "y_pred = model.predict(x_test)\n",
        "print(y_pred)\n",
        "print(y_test)\n",
        "print(\"Độ chính xác của mô hình: \", accuracy_score(y_test, y_pred))"
      ],
      "metadata": {
        "colab": {
          "base_uri": "https://localhost:8080/"
        },
        "id": "dHnrz_yjuxJx",
        "outputId": "449fd72d-18a0-4802-8890-98269b56cd87"
      },
      "execution_count": null,
      "outputs": [
        {
          "output_type": "stream",
          "name": "stdout",
          "text": [
            "['1' '0' '1' '1' '0' '1' '1' '0' '0' '1' '0' '1' '1' '0' '1' '1' '1' '0'\n",
            " '0' '0' '1' '1' '0' '1' '0' '1' '1' '1' '0' '0' '0' '0' '0' '0' '1' '0'\n",
            " '1' '0' '0' '0' '0' '0' '0' '0' '0' '0' '0' '0' '1' '0' '0' '0' '0' '1'\n",
            " '0' '0' '1' '1' '0' '0']\n",
            "141    1\n",
            "9      1\n",
            "33     1\n",
            "4      1\n",
            "169    0\n",
            "103    1\n",
            "7      1\n",
            "72     0\n",
            "168    0\n",
            "111    1\n",
            "11     1\n",
            "16     1\n",
            "3      1\n",
            "165    0\n",
            "124    1\n",
            "136    1\n",
            "123    1\n",
            "156    0\n",
            "151    0\n",
            "102    1\n",
            "34     1\n",
            "116    1\n",
            "94     0\n",
            "23     1\n",
            "191    0\n",
            "105    1\n",
            "132    1\n",
            "37     1\n",
            "106    1\n",
            "62     0\n",
            "73     0\n",
            "160    0\n",
            "78     0\n",
            "56     0\n",
            "30     1\n",
            "187    0\n",
            "121    1\n",
            "84     0\n",
            "154    0\n",
            "89     0\n",
            "178    0\n",
            "92     0\n",
            "60     0\n",
            "199    0\n",
            "52     0\n",
            "87     0\n",
            "109    1\n",
            "163    0\n",
            "21     1\n",
            "179    0\n",
            "67     0\n",
            "184    0\n",
            "180    0\n",
            "101    1\n",
            "51     0\n",
            "55     0\n",
            "49     1\n",
            "134    1\n",
            "90     0\n",
            "83     0\n",
            "Name: sex, dtype: object\n",
            "Độ chính xác của mô hình:  0.9166666666666666\n"
          ]
        }
      ]
    },
    {
      "cell_type": "code",
      "source": [],
      "metadata": {
        "id": "6o_ov_lZsaD2"
      },
      "execution_count": null,
      "outputs": []
    }
  ]
}